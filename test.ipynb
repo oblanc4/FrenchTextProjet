{
 "cells": [
  {
   "cell_type": "code",
   "execution_count": 1,
   "metadata": {},
   "outputs": [
    {
     "name": "stderr",
     "output_type": "stream",
     "text": [
      "/Users/oanaalexandrablanc/opt/anaconda3/lib/python3.9/site-packages/pandas/core/computation/expressions.py:21: UserWarning: Pandas requires version '2.8.0' or newer of 'numexpr' (version '2.7.3' currently installed).\n",
      "  from pandas.core.computation.check import NUMEXPR_INSTALLED\n",
      "/Users/oanaalexandrablanc/opt/anaconda3/lib/python3.9/site-packages/pandas/core/arrays/masked.py:62: UserWarning: Pandas requires version '1.3.4' or newer of 'bottleneck' (version '1.3.2' currently installed).\n",
      "  from pandas.core import (\n"
     ]
    }
   ],
   "source": [
    "import pandas as pd\n",
    "from sklearn.model_selection import train_test_split\n",
    "from sklearn.feature_extraction.text import TfidfVectorizer\n",
    "import re"
   ]
  },
  {
   "cell_type": "code",
   "execution_count": 2,
   "metadata": {},
   "outputs": [
    {
     "data": {
      "text/html": [
       "<div>\n",
       "<style scoped>\n",
       "    .dataframe tbody tr th:only-of-type {\n",
       "        vertical-align: middle;\n",
       "    }\n",
       "\n",
       "    .dataframe tbody tr th {\n",
       "        vertical-align: top;\n",
       "    }\n",
       "\n",
       "    .dataframe thead th {\n",
       "        text-align: right;\n",
       "    }\n",
       "</style>\n",
       "<table border=\"1\" class=\"dataframe\">\n",
       "  <thead>\n",
       "    <tr style=\"text-align: right;\">\n",
       "      <th></th>\n",
       "      <th>id</th>\n",
       "      <th>sentence</th>\n",
       "    </tr>\n",
       "  </thead>\n",
       "  <tbody>\n",
       "    <tr>\n",
       "      <th>0</th>\n",
       "      <td>0</td>\n",
       "      <td>Nous dûmes nous excuser des propos que nous eû...</td>\n",
       "    </tr>\n",
       "    <tr>\n",
       "      <th>1</th>\n",
       "      <td>1</td>\n",
       "      <td>Vous ne pouvez pas savoir le plaisir que j'ai ...</td>\n",
       "    </tr>\n",
       "    <tr>\n",
       "      <th>2</th>\n",
       "      <td>2</td>\n",
       "      <td>Et, paradoxalement, boire froid n'est pas la b...</td>\n",
       "    </tr>\n",
       "    <tr>\n",
       "      <th>3</th>\n",
       "      <td>3</td>\n",
       "      <td>Ce n'est pas étonnant, car c'est une saison my...</td>\n",
       "    </tr>\n",
       "    <tr>\n",
       "      <th>4</th>\n",
       "      <td>4</td>\n",
       "      <td>Le corps de Golo lui-même, d'une essence aussi...</td>\n",
       "    </tr>\n",
       "  </tbody>\n",
       "</table>\n",
       "</div>"
      ],
      "text/plain": [
       "   id                                           sentence\n",
       "0   0  Nous dûmes nous excuser des propos que nous eû...\n",
       "1   1  Vous ne pouvez pas savoir le plaisir que j'ai ...\n",
       "2   2  Et, paradoxalement, boire froid n'est pas la b...\n",
       "3   3  Ce n'est pas étonnant, car c'est une saison my...\n",
       "4   4  Le corps de Golo lui-même, d'une essence aussi..."
      ]
     },
     "execution_count": 2,
     "metadata": {},
     "output_type": "execute_result"
    }
   ],
   "source": [
    "# Specify the file path\n",
    "file_path_test = \"unlabelled_test_data.csv\"\n",
    "file_path_training = \"training_data.csv\"\n",
    "\n",
    "# Read the CSV file\n",
    "test_data = pd.read_csv(file_path_test)\n",
    "training_data = pd.read_csv(file_path_training)\n",
    "\n",
    "test_data.head()"
   ]
  },
  {
   "cell_type": "code",
   "execution_count": 3,
   "metadata": {},
   "outputs": [
    {
     "data": {
      "text/html": [
       "<div>\n",
       "<style scoped>\n",
       "    .dataframe tbody tr th:only-of-type {\n",
       "        vertical-align: middle;\n",
       "    }\n",
       "\n",
       "    .dataframe tbody tr th {\n",
       "        vertical-align: top;\n",
       "    }\n",
       "\n",
       "    .dataframe thead th {\n",
       "        text-align: right;\n",
       "    }\n",
       "</style>\n",
       "<table border=\"1\" class=\"dataframe\">\n",
       "  <thead>\n",
       "    <tr style=\"text-align: right;\">\n",
       "      <th></th>\n",
       "      <th>id</th>\n",
       "      <th>sentence</th>\n",
       "      <th>difficulty</th>\n",
       "    </tr>\n",
       "  </thead>\n",
       "  <tbody>\n",
       "    <tr>\n",
       "      <th>0</th>\n",
       "      <td>0</td>\n",
       "      <td>Les coûts kilométriques réels peuvent diverger...</td>\n",
       "      <td>C1</td>\n",
       "    </tr>\n",
       "    <tr>\n",
       "      <th>1</th>\n",
       "      <td>1</td>\n",
       "      <td>Le bleu, c'est ma couleur préférée mais je n'a...</td>\n",
       "      <td>A1</td>\n",
       "    </tr>\n",
       "    <tr>\n",
       "      <th>2</th>\n",
       "      <td>2</td>\n",
       "      <td>Le test de niveau en français est sur le site ...</td>\n",
       "      <td>A1</td>\n",
       "    </tr>\n",
       "    <tr>\n",
       "      <th>3</th>\n",
       "      <td>3</td>\n",
       "      <td>Est-ce que ton mari est aussi de Boston?</td>\n",
       "      <td>A1</td>\n",
       "    </tr>\n",
       "    <tr>\n",
       "      <th>4</th>\n",
       "      <td>4</td>\n",
       "      <td>Dans les écoles de commerce, dans les couloirs...</td>\n",
       "      <td>B1</td>\n",
       "    </tr>\n",
       "  </tbody>\n",
       "</table>\n",
       "</div>"
      ],
      "text/plain": [
       "   id                                           sentence difficulty\n",
       "0   0  Les coûts kilométriques réels peuvent diverger...         C1\n",
       "1   1  Le bleu, c'est ma couleur préférée mais je n'a...         A1\n",
       "2   2  Le test de niveau en français est sur le site ...         A1\n",
       "3   3           Est-ce que ton mari est aussi de Boston?         A1\n",
       "4   4  Dans les écoles de commerce, dans les couloirs...         B1"
      ]
     },
     "execution_count": 3,
     "metadata": {},
     "output_type": "execute_result"
    }
   ],
   "source": [
    "training_data.head()"
   ]
  },
  {
   "cell_type": "code",
   "execution_count": 4,
   "metadata": {},
   "outputs": [
    {
     "data": {
      "text/plain": [
       "id          0\n",
       "sentence    0\n",
       "dtype: int64"
      ]
     },
     "execution_count": 4,
     "metadata": {},
     "output_type": "execute_result"
    }
   ],
   "source": [
    "# Check for null values in the training data\n",
    "training_data.isnull().sum()\n",
    "\n",
    "# Check for null values in the test data\n",
    "test_data.isnull().sum()\n"
   ]
  },
  {
   "cell_type": "code",
   "execution_count": 5,
   "metadata": {},
   "outputs": [
    {
     "data": {
      "text/plain": [
       "(difficulty\n",
       " A1    813\n",
       " C2    807\n",
       " C1    798\n",
       " B1    795\n",
       " A2    795\n",
       " B2    792\n",
       " Name: count, dtype: int64,\n",
       " 596                               Je peux m'asseoir ici ?\n",
       " 3370    C'est la couleur de nombreux fruits et légumes...\n",
       " 3048    Pas au point qu'il faille en limiter la consom...\n",
       " 2908    Les Français ne cèdent pas au chacun pour soi,...\n",
       " 8       J'ai retrouvé le plaisir de manger un oeuf à l...\n",
       " Name: sentence, dtype: object)"
      ]
     },
     "execution_count": 5,
     "metadata": {},
     "output_type": "execute_result"
    }
   ],
   "source": [
    "# Distribution of difficulty levels\n",
    "difficulty_distribution = training_data['difficulty'].value_counts()\n",
    "# Sample sentences\n",
    "sample_sentences = training_data['sentence'].sample(5, random_state=42)\n",
    "\n",
    "difficulty_distribution, sample_sentences\n"
   ]
  },
  {
   "cell_type": "code",
   "execution_count": 6,
   "metadata": {},
   "outputs": [
    {
     "data": {
      "text/html": [
       "<div>\n",
       "<style scoped>\n",
       "    .dataframe tbody tr th:only-of-type {\n",
       "        vertical-align: middle;\n",
       "    }\n",
       "\n",
       "    .dataframe tbody tr th {\n",
       "        vertical-align: top;\n",
       "    }\n",
       "\n",
       "    .dataframe thead th {\n",
       "        text-align: right;\n",
       "    }\n",
       "</style>\n",
       "<table border=\"1\" class=\"dataframe\">\n",
       "  <thead>\n",
       "    <tr style=\"text-align: right;\">\n",
       "      <th></th>\n",
       "      <th>id</th>\n",
       "      <th>sentence</th>\n",
       "      <th>difficulty</th>\n",
       "    </tr>\n",
       "  </thead>\n",
       "  <tbody>\n",
       "    <tr>\n",
       "      <th>0</th>\n",
       "      <td>0</td>\n",
       "      <td>les cots kilomtriques rels peuvent diverger se...</td>\n",
       "      <td>C1</td>\n",
       "    </tr>\n",
       "    <tr>\n",
       "      <th>1</th>\n",
       "      <td>1</td>\n",
       "      <td>le bleu cest ma couleur prfre mais je naime pa...</td>\n",
       "      <td>A1</td>\n",
       "    </tr>\n",
       "    <tr>\n",
       "      <th>2</th>\n",
       "      <td>2</td>\n",
       "      <td>le test de niveau en franais est sur le site i...</td>\n",
       "      <td>A1</td>\n",
       "    </tr>\n",
       "    <tr>\n",
       "      <th>3</th>\n",
       "      <td>3</td>\n",
       "      <td>estce que ton mari est aussi de boston</td>\n",
       "      <td>A1</td>\n",
       "    </tr>\n",
       "    <tr>\n",
       "      <th>4</th>\n",
       "      <td>4</td>\n",
       "      <td>dans les coles de commerce dans les couloirs d...</td>\n",
       "      <td>B1</td>\n",
       "    </tr>\n",
       "  </tbody>\n",
       "</table>\n",
       "</div>"
      ],
      "text/plain": [
       "   id                                           sentence difficulty\n",
       "0   0  les cots kilomtriques rels peuvent diverger se...         C1\n",
       "1   1  le bleu cest ma couleur prfre mais je naime pa...         A1\n",
       "2   2  le test de niveau en franais est sur le site i...         A1\n",
       "3   3             estce que ton mari est aussi de boston         A1\n",
       "4   4  dans les coles de commerce dans les couloirs d...         B1"
      ]
     },
     "execution_count": 6,
     "metadata": {},
     "output_type": "execute_result"
    }
   ],
   "source": [
    "# Convert everything to lowercase\n",
    "training_data['sentence'] = training_data['sentence'].str.lower()\n",
    "\n",
    "# Remove special characters and numbers\n",
    "training_data['sentence'] = training_data['sentence'].str.replace('[^a-zA-Z\\s]', '', regex=True)\n",
    "\n",
    "training_data.head()\n"
   ]
  },
  {
   "cell_type": "code",
   "execution_count": 7,
   "metadata": {},
   "outputs": [],
   "source": [
    "from sklearn.feature_extraction.text import TfidfVectorizer\n",
    "\n",
    "# Create an instance of TfidfVectorizer\n",
    "vectorizer = TfidfVectorizer(max_features=5000)\n",
    "\n",
    "# Fit and transform the cleaned text data\n",
    "X = vectorizer.fit_transform(training_data['sentence'])\n",
    "y = training_data['difficulty']\n"
   ]
  },
  {
   "cell_type": "code",
   "execution_count": 8,
   "metadata": {},
   "outputs": [
    {
     "data": {
      "text/plain": [
       "((3840, 5000), (960, 5000))"
      ]
     },
     "execution_count": 8,
     "metadata": {},
     "output_type": "execute_result"
    }
   ],
   "source": [
    "X_train, X_test, y_train, y_test = train_test_split(X, y, test_size=0.2, random_state=42)\n",
    "\n",
    "X_train.shape, X_test.shape"
   ]
  },
  {
   "cell_type": "code",
   "execution_count": 9,
   "metadata": {},
   "outputs": [
    {
     "data": {
      "text/plain": [
       "array(['A1', 'A1', 'C2', 'B2', 'A2', 'C1', 'A2', 'A2', 'A2', 'C1', 'A1',\n",
       "       'A2', 'B1', 'B2', 'C2', 'C1', 'A1', 'C2', 'A1', 'A1', 'B1', 'C1',\n",
       "       'B1', 'C2', 'A1', 'A2', 'B1', 'A2', 'C2', 'A1', 'C1', 'B2', 'B1',\n",
       "       'B2', 'A2', 'B2', 'A2', 'B2', 'C1', 'A2', 'C2', 'A1', 'C2', 'A1',\n",
       "       'C2', 'B1', 'A1', 'B2', 'B2', 'C1', 'C1', 'A2', 'C1', 'A2', 'C1',\n",
       "       'A2', 'C1', 'B2', 'A2', 'B1', 'C1', 'C2', 'A2', 'C2', 'C1', 'C1',\n",
       "       'C2', 'A2', 'B2', 'B1', 'C2', 'B2', 'B1', 'B2', 'C2', 'C2', 'A2',\n",
       "       'A1', 'A1', 'A1', 'B1', 'B2', 'C1', 'C1', 'C2', 'A1', 'B2', 'C2',\n",
       "       'A1', 'A1', 'B2', 'C2', 'C2', 'A1', 'A1', 'B1', 'A2', 'A2', 'A2',\n",
       "       'B2', 'B2', 'C2', 'C2', 'A1', 'C1', 'A1', 'A2', 'C1', 'B1', 'C2',\n",
       "       'C1', 'A2', 'A2', 'A1', 'C1', 'A2', 'C1', 'B2', 'A1', 'A1', 'A1',\n",
       "       'A1', 'B1', 'C2', 'C2', 'A2', 'C1', 'B2', 'B2', 'B1', 'C1', 'C1',\n",
       "       'A1', 'B1', 'A1', 'B2', 'C2', 'A2', 'A1', 'C2', 'B2', 'C2', 'A2',\n",
       "       'A1', 'A2', 'B1', 'C2', 'A1', 'B1', 'C1', 'C2', 'C2', 'B2', 'C2',\n",
       "       'C2', 'C1', 'C1', 'A1', 'A2', 'B2', 'A2', 'A1', 'A1', 'C1', 'C2',\n",
       "       'A2', 'A1', 'A2', 'C2', 'B1', 'B1', 'C1', 'B2', 'A1', 'C1', 'A2',\n",
       "       'C1', 'C2', 'B1', 'C1', 'C1', 'A1', 'C1', 'B1', 'A2', 'C2', 'A1',\n",
       "       'C1', 'C1', 'C2', 'A2', 'B1', 'C2', 'B2', 'A1', 'A1', 'A2', 'B2',\n",
       "       'C1', 'A2', 'A2', 'B1', 'B1', 'A2', 'A1', 'B2', 'A2', 'A1', 'C2',\n",
       "       'A1', 'C2', 'A2', 'C1', 'B2', 'A2', 'A1', 'B2', 'C1', 'B1', 'B1',\n",
       "       'A1', 'B1', 'C1', 'A2', 'A1', 'A1', 'C1', 'B2', 'C2', 'C2', 'C1',\n",
       "       'A1', 'C2', 'A1', 'B1', 'C1', 'B2', 'C1', 'A1', 'B2', 'A1', 'A1',\n",
       "       'C2', 'C2', 'A1', 'C2', 'A2', 'B1', 'C2', 'B2', 'B1', 'C1', 'A1',\n",
       "       'A1', 'B1', 'B1', 'B2', 'B1', 'C2', 'C1', 'B1', 'C2', 'A1', 'A1',\n",
       "       'A2', 'C2', 'A1', 'B1', 'A1', 'A1', 'B2', 'A1', 'B2', 'A1', 'A1',\n",
       "       'B2', 'C2', 'B1', 'A1', 'B2', 'B2', 'C2', 'B2', 'B1', 'A1', 'B2',\n",
       "       'B1', 'B1', 'A1', 'B1', 'A2', 'B2', 'C2', 'B2', 'B1', 'A2', 'C2',\n",
       "       'A1', 'B2', 'B2', 'A1', 'A1', 'A2', 'C2', 'C2', 'A2', 'A2', 'C2',\n",
       "       'A2', 'B1', 'A1', 'C2', 'B1', 'A2', 'B1', 'B2', 'A1', 'B1', 'B2',\n",
       "       'B2', 'C1', 'A2', 'A1', 'C1', 'B2', 'A2', 'C2', 'C2', 'A1', 'A2',\n",
       "       'C2', 'B1', 'B2', 'C2', 'B2', 'A1', 'B2', 'A2', 'A2', 'C2', 'C1',\n",
       "       'A2', 'B2', 'B2', 'A2', 'B2', 'B1', 'C1', 'B1', 'C1', 'A2', 'C2',\n",
       "       'B1', 'C2', 'B2', 'A1', 'B1', 'A1', 'A2', 'C2', 'C2', 'C2', 'C2',\n",
       "       'B2', 'B2', 'A2', 'B1', 'C2', 'A1', 'B2', 'A1', 'A2', 'A2', 'B2',\n",
       "       'A1', 'B2', 'B2', 'C2', 'C1', 'C1', 'C2', 'B2', 'B2', 'C2', 'A2',\n",
       "       'A1', 'A1', 'C2', 'B1', 'B2', 'C2', 'C1', 'B1', 'B2', 'A1', 'A1',\n",
       "       'B2', 'B1', 'B2', 'A1', 'B1', 'A1', 'C2', 'B2', 'A2', 'B1', 'B1',\n",
       "       'B2', 'A2', 'C2', 'C1', 'C2', 'A2', 'C2', 'C1', 'B2', 'C1', 'C1',\n",
       "       'B1', 'C2', 'C1', 'B2', 'B1', 'C2', 'C1', 'C1', 'C2', 'A1', 'A2',\n",
       "       'B1', 'C2', 'A1', 'B2', 'C1', 'C2', 'A1', 'A2', 'C1', 'C2', 'B1',\n",
       "       'A1', 'A1', 'A1', 'A1', 'B2', 'B1', 'A1', 'C2', 'A1', 'B2', 'A2',\n",
       "       'A2', 'B1', 'B1', 'A1', 'A2', 'C1', 'A2', 'A2', 'A1', 'A1', 'A1',\n",
       "       'C1', 'C1', 'B1', 'A1', 'A1', 'A1', 'C2', 'C1', 'A2', 'C1', 'C1',\n",
       "       'A1', 'C1', 'C2', 'C1', 'C1', 'C2', 'C2', 'A1', 'B2', 'C1', 'B2',\n",
       "       'A1', 'C2', 'A1', 'A1', 'B2', 'B1', 'A2', 'C2', 'C1', 'C2', 'C2',\n",
       "       'C1', 'A1', 'B2', 'A2', 'A1', 'A1', 'B1', 'C1', 'B1', 'A1', 'C1',\n",
       "       'A2', 'A1', 'C1', 'C1', 'C1', 'B2', 'B2', 'B2', 'B2', 'A1', 'C2',\n",
       "       'A1', 'A2', 'C2', 'C1', 'A1', 'C2', 'B1', 'B2', 'C2', 'C2', 'A1',\n",
       "       'C1', 'B1', 'B2', 'B2', 'B1', 'C1', 'B2', 'C1', 'A1', 'B2', 'B1',\n",
       "       'C2', 'A1', 'A1', 'C1', 'C2', 'A2', 'C2', 'A1', 'A2', 'B2', 'B2',\n",
       "       'A1', 'A1', 'C1', 'B2', 'A1', 'A2', 'A1', 'B1', 'A1', 'B1', 'B2',\n",
       "       'C1', 'C1', 'A2', 'A1', 'C2', 'A1', 'C2', 'B1', 'B2', 'C1', 'C2',\n",
       "       'A1', 'B2', 'B2', 'C1', 'C2', 'B2', 'A1', 'B2', 'C2', 'A1', 'C2',\n",
       "       'A2', 'A2', 'C1', 'C2', 'B2', 'A1', 'C1', 'B2', 'C1', 'B1', 'B1',\n",
       "       'C2', 'A1', 'A2', 'C2', 'C2', 'C2', 'B1', 'B2', 'B1', 'C1', 'C1',\n",
       "       'C1', 'C1', 'B2', 'C1', 'B2', 'A1', 'C1', 'C1', 'A2', 'A2', 'B1',\n",
       "       'C2', 'B2', 'A1', 'A1', 'C2', 'A1', 'B1', 'C1', 'C2', 'A2', 'B2',\n",
       "       'C2', 'C1', 'C2', 'A1', 'B2', 'B1', 'C1', 'C1', 'A1', 'C1', 'C2',\n",
       "       'C2', 'B2', 'A2', 'C1', 'B1', 'A2', 'B1', 'B1', 'A2', 'C1', 'A1',\n",
       "       'A2', 'C1', 'B1', 'C1', 'B2', 'B2', 'A1', 'B2', 'A1', 'C2', 'A2',\n",
       "       'A2', 'A1', 'B1', 'C1', 'C1', 'B2', 'A1', 'C1', 'B2', 'B1', 'C1',\n",
       "       'A1', 'C1', 'B2', 'C1', 'B1', 'A1', 'A1', 'A2', 'C1', 'C1', 'C2',\n",
       "       'C1', 'A1', 'B2', 'C1', 'A2', 'A1', 'A1', 'A1', 'A1', 'B2', 'C2',\n",
       "       'A2', 'C1', 'C1', 'B1', 'B2', 'C2', 'A1', 'C1', 'B1', 'B1', 'C2',\n",
       "       'C2', 'A2', 'B2', 'B2', 'B1', 'B2', 'A1', 'B2', 'C2', 'B1', 'C1',\n",
       "       'B2', 'C2', 'C1', 'B2', 'A1', 'B2', 'A2', 'C2', 'A2', 'C1', 'B2',\n",
       "       'C2', 'A2', 'B2', 'B2', 'A2', 'B2', 'A2', 'B1', 'B2', 'A2', 'B2',\n",
       "       'A1', 'C2', 'A1', 'B2', 'C2', 'B1', 'A1', 'C1', 'A2', 'B2', 'A1',\n",
       "       'A2', 'B1', 'A2', 'A1', 'C1', 'B1', 'A1', 'C2', 'B1', 'C1', 'A1',\n",
       "       'B2', 'B1', 'B2', 'B2', 'B1', 'A2', 'A1', 'C1', 'C1', 'A2', 'B1',\n",
       "       'B2', 'A1', 'B2', 'C1', 'A1', 'C2', 'A1', 'B1', 'A1', 'C1', 'A2',\n",
       "       'C2', 'C1', 'A2', 'C2', 'A1', 'C2', 'B2', 'B1', 'A2', 'A1', 'C1',\n",
       "       'C2', 'A2', 'C2', 'B1', 'C1', 'A1', 'C2', 'A1', 'C1', 'A1', 'A2',\n",
       "       'B2', 'B1', 'B1', 'B1', 'A1', 'B1', 'C1', 'C1', 'A2', 'B2', 'C2',\n",
       "       'C1', 'C1', 'A1', 'C2', 'A1', 'C2', 'A1', 'B2', 'B2', 'C2', 'B1',\n",
       "       'B2', 'A2', 'C2', 'C1', 'B1', 'A1', 'A1', 'A2', 'B2', 'A1', 'B1',\n",
       "       'C1', 'C1', 'B1', 'A1', 'C2', 'B1', 'B1', 'C1', 'A2', 'B2', 'A2',\n",
       "       'A1', 'C1', 'A2', 'B2', 'C1', 'C1', 'C2', 'B1', 'B2', 'B2', 'A1',\n",
       "       'B1', 'C2', 'A2', 'A1', 'A1', 'C1', 'B2', 'B2', 'B2', 'A2', 'A1',\n",
       "       'A1', 'B2', 'A2', 'B2', 'A2', 'B2', 'B1', 'C1', 'B1', 'A1', 'B2',\n",
       "       'A2', 'C1', 'A2', 'A2', 'A2', 'C1', 'C1', 'A2', 'A2', 'A2', 'B2',\n",
       "       'B2', 'B1', 'B1', 'B2', 'B2', 'C1', 'C1', 'B1', 'C1', 'B1', 'C2',\n",
       "       'A2', 'A1', 'A1', 'C1', 'C1', 'C2', 'C2', 'C1', 'A2', 'C2', 'A1',\n",
       "       'A1', 'C1', 'A1', 'B1', 'C2', 'A1', 'C2', 'B1', 'A2', 'B2', 'A1',\n",
       "       'A2', 'B1', 'A1', 'C2', 'A1', 'C1', 'B1', 'B1', 'C1', 'A1', 'A1',\n",
       "       'A1', 'A1', 'B1', 'A2', 'A2', 'A1', 'C1', 'C2', 'B2', 'B2', 'A2',\n",
       "       'C2', 'B1', 'A2', 'A1', 'C2', 'C2', 'C2', 'A1', 'A1', 'A1', 'C2',\n",
       "       'C2', 'C2', 'C1'], dtype=object)"
      ]
     },
     "execution_count": 9,
     "metadata": {},
     "output_type": "execute_result"
    }
   ],
   "source": [
    "from sklearn.svm import SVC\n",
    "\n",
    "# Create an instance of the SVM model\n",
    "svm_model = SVC()\n",
    "\n",
    "# Train the model on the training data\n",
    "svm_model.fit(X_train, y_train)\n",
    "\n",
    "# Make predictions on the test data\n",
    "predictions = svm_model.predict(X_test)\n",
    "\n",
    "predictions\n"
   ]
  },
  {
   "cell_type": "code",
   "execution_count": 10,
   "metadata": {},
   "outputs": [
    {
     "data": {
      "text/plain": [
       "0.4552083333333333"
      ]
     },
     "execution_count": 10,
     "metadata": {},
     "output_type": "execute_result"
    }
   ],
   "source": [
    "from sklearn.metrics import accuracy_score\n",
    "\n",
    "# Calculate the accuracy of the predictions\n",
    "accuracy = accuracy_score(y_test, predictions)\n",
    "\n",
    "accuracy\n"
   ]
  },
  {
   "cell_type": "code",
   "execution_count": 11,
   "metadata": {},
   "outputs": [
    {
     "data": {
      "text/plain": [
       "array(['A1', 'A1', 'C2', 'B2', 'A2', 'C1', 'A2', 'A2', 'A2', 'C1', 'A1',\n",
       "       'A2', 'B1', 'B2', 'C2', 'C2', 'A1', 'C2', 'A1', 'A1', 'B1', 'C1',\n",
       "       'B1', 'C2', 'A1', 'A2', 'B1', 'A2', 'C2', 'A1', 'C1', 'B2', 'B1',\n",
       "       'B2', 'A2', 'B2', 'A2', 'B2', 'C1', 'A1', 'C2', 'A1', 'C2', 'B1',\n",
       "       'C2', 'B1', 'A1', 'B2', 'C1', 'C1', 'C1', 'A1', 'C1', 'A2', 'C1',\n",
       "       'A2', 'B2', 'B2', 'A2', 'B1', 'C1', 'C2', 'A2', 'C2', 'C1', 'C1',\n",
       "       'C2', 'A2', 'B2', 'B1', 'C2', 'B2', 'B1', 'B2', 'C2', 'C2', 'A1',\n",
       "       'A1', 'A1', 'A1', 'A2', 'B2', 'C1', 'C1', 'C2', 'A1', 'B2', 'C1',\n",
       "       'A1', 'A1', 'B1', 'C2', 'C2', 'A1', 'A1', 'B1', 'A2', 'A2', 'B1',\n",
       "       'B2', 'B2', 'C2', 'C2', 'A1', 'B1', 'A1', 'A2', 'C1', 'B1', 'C2',\n",
       "       'B1', 'A2', 'A2', 'A1', 'C1', 'A2', 'C1', 'B2', 'A1', 'A1', 'A1',\n",
       "       'A1', 'B1', 'C2', 'C2', 'A2', 'C1', 'B2', 'B2', 'C1', 'C1', 'C1',\n",
       "       'A1', 'A1', 'A1', 'B2', 'C2', 'A2', 'A1', 'C2', 'A2', 'B2', 'B1',\n",
       "       'A1', 'A1', 'A2', 'C2', 'A1', 'A2', 'C1', 'C2', 'C2', 'B2', 'C2',\n",
       "       'C2', 'C1', 'C1', 'A1', 'A2', 'B2', 'A2', 'A1', 'A1', 'C1', 'C2',\n",
       "       'A2', 'A1', 'A2', 'C2', 'B1', 'B1', 'B2', 'B2', 'A1', 'C1', 'A2',\n",
       "       'C1', 'C2', 'B1', 'B2', 'C1', 'A1', 'C1', 'B1', 'B2', 'C2', 'A1',\n",
       "       'C1', 'B1', 'C2', 'A2', 'B1', 'C2', 'B2', 'A1', 'A2', 'B1', 'B2',\n",
       "       'C1', 'A2', 'A1', 'B1', 'B1', 'A2', 'A1', 'B2', 'A2', 'A2', 'B2',\n",
       "       'A1', 'C2', 'A2', 'C1', 'B2', 'A2', 'A1', 'C2', 'C1', 'B1', 'B1',\n",
       "       'A1', 'B1', 'B2', 'B1', 'A1', 'A1', 'C1', 'B2', 'C2', 'C2', 'C1',\n",
       "       'A1', 'C2', 'B2', 'B1', 'C1', 'B1', 'C2', 'A1', 'B2', 'A2', 'A1',\n",
       "       'C2', 'C2', 'A1', 'C2', 'A2', 'B1', 'C2', 'B2', 'B1', 'C1', 'A1',\n",
       "       'A1', 'B1', 'B1', 'B2', 'B1', 'C2', 'C1', 'B1', 'C2', 'A1', 'A1',\n",
       "       'A2', 'C2', 'A1', 'B1', 'A1', 'A1', 'B2', 'A1', 'A2', 'A1', 'A1',\n",
       "       'B2', 'C2', 'C1', 'A1', 'B2', 'B2', 'C2', 'B2', 'A1', 'A1', 'B2',\n",
       "       'B1', 'B1', 'A2', 'B1', 'A2', 'B2', 'C2', 'B2', 'B1', 'A2', 'C2',\n",
       "       'A2', 'B2', 'B2', 'A1', 'A1', 'A2', 'C2', 'C2', 'A2', 'A2', 'C2',\n",
       "       'A2', 'B1', 'A1', 'C1', 'B1', 'A2', 'C2', 'B2', 'A1', 'B2', 'B2',\n",
       "       'C2', 'C1', 'A2', 'A1', 'C2', 'B2', 'A2', 'C2', 'C2', 'A1', 'A2',\n",
       "       'C2', 'B1', 'A1', 'C2', 'C1', 'A1', 'B2', 'A2', 'A2', 'B2', 'C1',\n",
       "       'A2', 'B2', 'B2', 'A2', 'B2', 'A2', 'C1', 'B1', 'C1', 'A2', 'C2',\n",
       "       'B1', 'C2', 'B2', 'A1', 'B1', 'A1', 'A2', 'C2', 'B1', 'B2', 'C2',\n",
       "       'B2', 'B2', 'A2', 'B1', 'C2', 'A1', 'B2', 'A1', 'A2', 'A2', 'B2',\n",
       "       'A1', 'B2', 'B2', 'C2', 'C1', 'C1', 'C2', 'B2', 'B2', 'C2', 'A2',\n",
       "       'A1', 'A1', 'C1', 'B1', 'B2', 'C2', 'C1', 'B1', 'B2', 'A1', 'A2',\n",
       "       'B2', 'B1', 'B2', 'A1', 'B1', 'B2', 'C2', 'B2', 'A2', 'B1', 'B1',\n",
       "       'B2', 'A2', 'C2', 'B2', 'C2', 'A2', 'C2', 'C1', 'B2', 'C1', 'C1',\n",
       "       'A1', 'C2', 'C2', 'B2', 'A2', 'C2', 'C1', 'C1', 'C2', 'A1', 'A2',\n",
       "       'B1', 'C2', 'A1', 'B2', 'C1', 'C2', 'A1', 'A2', 'C1', 'C2', 'B1',\n",
       "       'A1', 'A1', 'A1', 'B1', 'B2', 'B1', 'A2', 'C2', 'A1', 'B2', 'A2',\n",
       "       'A2', 'A1', 'B1', 'A1', 'A2', 'C1', 'A2', 'A2', 'A1', 'A1', 'A1',\n",
       "       'C1', 'C1', 'B1', 'A1', 'A2', 'A1', 'C2', 'C1', 'A2', 'C1', 'C1',\n",
       "       'A1', 'B1', 'C2', 'C2', 'C1', 'C2', 'C2', 'A1', 'B2', 'B2', 'B2',\n",
       "       'A1', 'B2', 'A1', 'A1', 'B2', 'B1', 'A2', 'C2', 'C1', 'C2', 'C2',\n",
       "       'C1', 'A1', 'B2', 'A2', 'A2', 'A1', 'B1', 'C1', 'B1', 'A2', 'C1',\n",
       "       'A2', 'A2', 'B1', 'C1', 'C1', 'B2', 'B2', 'B2', 'B2', 'B1', 'C2',\n",
       "       'B2', 'A2', 'C2', 'B2', 'A1', 'C2', 'B1', 'B2', 'C2', 'C2', 'A1',\n",
       "       'C1', 'B1', 'C2', 'B2', 'B1', 'C1', 'B2', 'C1', 'A1', 'B2', 'A2',\n",
       "       'C2', 'A1', 'A1', 'C1', 'C2', 'A2', 'C2', 'A1', 'A2', 'B2', 'B2',\n",
       "       'A1', 'A1', 'C2', 'B2', 'A1', 'A2', 'A2', 'B1', 'A1', 'B1', 'B2',\n",
       "       'C1', 'C1', 'A2', 'A1', 'C2', 'A1', 'C1', 'B1', 'B2', 'C1', 'C2',\n",
       "       'A1', 'B2', 'B2', 'C1', 'C2', 'B2', 'A1', 'B2', 'C2', 'A1', 'C2',\n",
       "       'A2', 'A2', 'C2', 'C2', 'B2', 'A1', 'C1', 'B2', 'C1', 'B1', 'A2',\n",
       "       'C2', 'A1', 'A2', 'C2', 'C2', 'C2', 'B1', 'B2', 'B1', 'C1', 'C1',\n",
       "       'C1', 'C1', 'B2', 'C1', 'B2', 'A2', 'C1', 'B2', 'B1', 'A2', 'B1',\n",
       "       'C2', 'B2', 'A1', 'A1', 'C2', 'A1', 'B1', 'C1', 'C1', 'A2', 'B2',\n",
       "       'C2', 'C1', 'C1', 'A1', 'B2', 'A2', 'C1', 'C1', 'A1', 'C1', 'C2',\n",
       "       'C2', 'C1', 'A2', 'C1', 'B1', 'A2', 'A2', 'B1', 'A2', 'C1', 'A1',\n",
       "       'A2', 'C1', 'B1', 'C1', 'C1', 'B2', 'A1', 'B2', 'A1', 'C2', 'A2',\n",
       "       'A2', 'A1', 'B1', 'C1', 'C1', 'B2', 'A1', 'C1', 'B2', 'B1', 'C1',\n",
       "       'A2', 'C1', 'B2', 'B1', 'B1', 'A1', 'A2', 'A1', 'B1', 'C1', 'C2',\n",
       "       'C1', 'A1', 'B2', 'C1', 'A2', 'A1', 'A1', 'A1', 'B1', 'B2', 'B1',\n",
       "       'A2', 'C1', 'C1', 'A2', 'C1', 'C2', 'A1', 'C1', 'B1', 'B1', 'C2',\n",
       "       'C2', 'A2', 'A1', 'B2', 'B1', 'C2', 'A1', 'B2', 'C2', 'B1', 'C1',\n",
       "       'B2', 'C2', 'C1', 'B2', 'A1', 'B2', 'A2', 'C2', 'A1', 'C1', 'B2',\n",
       "       'C2', 'A2', 'B2', 'B2', 'B1', 'C1', 'A2', 'B1', 'B2', 'A2', 'B2',\n",
       "       'A1', 'C2', 'A1', 'B2', 'C2', 'A2', 'A1', 'C1', 'A2', 'B2', 'A1',\n",
       "       'A2', 'B1', 'A2', 'A1', 'C1', 'B1', 'A1', 'C2', 'B1', 'C1', 'A1',\n",
       "       'A2', 'B1', 'B2', 'B2', 'B1', 'A2', 'A1', 'C1', 'B2', 'A2', 'B1',\n",
       "       'B2', 'A1', 'B2', 'C1', 'A1', 'C2', 'A1', 'B1', 'A1', 'C2', 'A2',\n",
       "       'C2', 'C1', 'A2', 'B1', 'A1', 'C2', 'B2', 'B1', 'A2', 'A1', 'C1',\n",
       "       'C2', 'A2', 'B2', 'B1', 'C1', 'A1', 'C2', 'A1', 'C1', 'A1', 'A2',\n",
       "       'B2', 'B1', 'B1', 'B1', 'A1', 'B1', 'C1', 'C1', 'A2', 'B2', 'C2',\n",
       "       'C1', 'C1', 'A2', 'C2', 'A1', 'C2', 'A1', 'B2', 'B2', 'C2', 'B1',\n",
       "       'B2', 'A2', 'C2', 'C1', 'B1', 'A1', 'A1', 'A2', 'B2', 'A2', 'B1',\n",
       "       'C2', 'C1', 'B1', 'A1', 'B1', 'B1', 'B1', 'C1', 'B1', 'C1', 'A2',\n",
       "       'A1', 'C1', 'A2', 'A1', 'C1', 'C1', 'C2', 'B1', 'C1', 'B2', 'A1',\n",
       "       'B1', 'C2', 'A2', 'A1', 'A1', 'C1', 'B2', 'B2', 'B2', 'A2', 'A1',\n",
       "       'A1', 'B2', 'A2', 'B2', 'A2', 'B2', 'B1', 'C1', 'A2', 'A1', 'B2',\n",
       "       'A2', 'B2', 'A2', 'A2', 'A2', 'C1', 'C1', 'A2', 'A2', 'A2', 'B2',\n",
       "       'B2', 'B1', 'B1', 'B2', 'B2', 'C1', 'C1', 'B1', 'C1', 'A2', 'C2',\n",
       "       'B1', 'A1', 'A1', 'C1', 'C1', 'C2', 'C2', 'C1', 'B1', 'C2', 'A1',\n",
       "       'A1', 'C1', 'A1', 'B1', 'C2', 'A1', 'C2', 'B1', 'A2', 'B2', 'A1',\n",
       "       'A2', 'B1', 'A1', 'C2', 'A1', 'C1', 'B1', 'B2', 'C1', 'A1', 'A1',\n",
       "       'A1', 'A1', 'B2', 'A2', 'A2', 'A1', 'C1', 'C2', 'B2', 'B2', 'A2',\n",
       "       'C2', 'B1', 'A2', 'A1', 'C2', 'C2', 'C2', 'A1', 'A1', 'A1', 'C2',\n",
       "       'C2', 'C2', 'B2'], dtype=object)"
      ]
     },
     "execution_count": 11,
     "metadata": {},
     "output_type": "execute_result"
    }
   ],
   "source": [
    "from sklearn.svm import SVC\n",
    "from sklearn.model_selection import GridSearchCV\n",
    "\n",
    "# Define the parameter grid for grid search\n",
    "param_grid = {'C': [0.1, 1, 10], 'kernel': ['linear', 'rbf', 'poly']}\n",
    "\n",
    "# Create an instance of the SVM model\n",
    "svm_model = SVC()\n",
    "\n",
    "# Perform grid search to find the best hyperparameters\n",
    "grid_search = GridSearchCV(svm_model, param_grid, cv=5)\n",
    "grid_search.fit(X_train, y_train)\n",
    "\n",
    "# Get the best hyperparameters\n",
    "best_params = grid_search.best_params_\n",
    "\n",
    "# Create a new SVM model with the best hyperparameters\n",
    "svm_model = SVC(**best_params)\n",
    "\n",
    "# Train the model on the training data\n",
    "svm_model.fit(X_train, y_train)\n",
    "\n",
    "# Make predictions on the test data\n",
    "new_predictions = svm_model.predict(X_test)\n",
    "\n",
    "new_predictions\n"
   ]
  },
  {
   "cell_type": "code",
   "execution_count": 12,
   "metadata": {},
   "outputs": [
    {
     "data": {
      "text/plain": [
       "0.46041666666666664"
      ]
     },
     "execution_count": 12,
     "metadata": {},
     "output_type": "execute_result"
    }
   ],
   "source": [
    "from sklearn.metrics import accuracy_score\n",
    "\n",
    "# Make predictions on the test data\n",
    "predictions = svm_model.predict(X_test)\n",
    "\n",
    "# Calculate the accuracy of the predictions\n",
    "accuracy = accuracy_score(y_test, new_predictions)\n",
    "\n",
    "accuracy\n"
   ]
  },
  {
   "cell_type": "code",
   "execution_count": 14,
   "metadata": {},
   "outputs": [
    {
     "data": {
      "text/plain": [
       "array(['C2', 'B1', 'A2', ..., 'C2', 'A1', 'A2'], dtype=object)"
      ]
     },
     "execution_count": 14,
     "metadata": {},
     "output_type": "execute_result"
    }
   ],
   "source": [
    "# Transform the cleaned text data of test_data\n",
    "X_test_data = vectorizer.transform(test_data['sentence'])\n",
    "\n",
    "# Make predictions on the test data\n",
    "test_predictions = svm_model.predict(X_test_data)\n",
    "\n",
    "test_predictions\n"
   ]
  },
  {
   "cell_type": "code",
   "execution_count": 16,
   "metadata": {},
   "outputs": [],
   "source": [
    "# Create a DataFrame with the test_predictions\n",
    "output_data = pd.DataFrame({'id': test_data['id'], 'difficulty': test_predictions})\n",
    "\n",
    "# Save the DataFrame to a CSV file\n",
    "output_data.to_csv('output.csv', index=False)\n"
   ]
  }
 ],
 "metadata": {
  "kernelspec": {
   "display_name": "base",
   "language": "python",
   "name": "python3"
  },
  "language_info": {
   "codemirror_mode": {
    "name": "ipython",
    "version": 3
   },
   "file_extension": ".py",
   "mimetype": "text/x-python",
   "name": "python",
   "nbconvert_exporter": "python",
   "pygments_lexer": "ipython3",
   "version": "3.9.7"
  }
 },
 "nbformat": 4,
 "nbformat_minor": 2
}
