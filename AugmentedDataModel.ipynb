{
 "cells": [
  {
   "cell_type": "code",
   "execution_count": 5,
   "metadata": {},
   "outputs": [],
   "source": [
    "import pandas as pd\n",
    "training_data_df = pd.read_csv('training_data.csv')"
   ]
  },
  {
   "cell_type": "code",
   "execution_count": 16,
   "metadata": {},
   "outputs": [
    {
     "name": "stderr",
     "output_type": "stream",
     "text": [
      "  0%|          | 11/4800 [00:44<4:19:49,  3.26s/it]"
     ]
    }
   ],
   "source": [
    "from transformers import MarianMTModel, MarianTokenizer\n",
    "from tqdm import tqdm\n",
    "\n",
    "# Initialize MarianMT tokenizer and model for French to English translation\n",
    "tokenizer_fr_to_en = MarianTokenizer.from_pretrained('Helsinki-NLP/opus-mt-fr-en')\n",
    "model_fr_to_en = MarianMTModel.from_pretrained('Helsinki-NLP/opus-mt-fr-en')\n",
    "\n",
    "# Initialize MarianMT tokenizer and model for English to French translation\n",
    "tokenizer_en_to_fr = MarianTokenizer.from_pretrained('Helsinki-NLP/opus-mt-en-fr')\n",
    "model_en_to_fr = MarianMTModel.from_pretrained('Helsinki-NLP/opus-mt-en-fr')\n",
    "\n",
    "# Define a function for translation\n",
    "def translate(text, model, tokenizer):\n",
    "    inputs = tokenizer(text, return_tensors=\"pt\", padding=True)\n",
    "    outputs = model.generate(**inputs)\n",
    "    return tokenizer.decode(outputs[0], skip_special_tokens=True)\n",
    "\n",
    "# Translate the sentences in the dataset and store the results\n",
    "back_translated_sentences = []\n",
    "for sentence in tqdm(training_data_df['sentence']):\n",
    "    # Translate to English\n",
    "    english_translation = translate(sentence, model_fr_to_en, tokenizer_fr_to_en)\n",
    "    # Translate back to French\n",
    "    back_translated_french = translate(english_translation, model_en_to_fr, tokenizer_en_to_fr)\n",
    "    # Store the back-translated sentence\n",
    "    back_translated_sentences.append(back_translated_french)\n",
    "\n",
    "# Create a new DataFrame for the back-translated sentences\n",
    "back_translated_df = training_data_df.copy()\n",
    "back_translated_df['sentence'] = back_translated_sentences\n",
    "\n",
    "# Concatenate the original and back-translated dataframes\n",
    "augmented_data_df = pd.concat([training_data_df, back_translated_df], ignore_index=True)\n",
    "\n",
    "back_translated_df['sentence'].head()  # Display the first few rows of the augmented dataset\n"
   ]
  },
  {
   "cell_type": "code",
   "execution_count": null,
   "metadata": {},
   "outputs": [],
   "source": [
    "#augmented_data_df.to_csv('augmented_training_data.csv', index=False)"
   ]
  }
 ],
 "metadata": {
  "kernelspec": {
   "display_name": "ml",
   "language": "python",
   "name": "python3"
  },
  "language_info": {
   "codemirror_mode": {
    "name": "ipython",
    "version": 3
   },
   "file_extension": ".py",
   "mimetype": "text/x-python",
   "name": "python",
   "nbconvert_exporter": "python",
   "pygments_lexer": "ipython3",
   "version": "3.10.13"
  }
 },
 "nbformat": 4,
 "nbformat_minor": 2
}
